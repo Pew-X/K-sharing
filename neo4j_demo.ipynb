{
 "cells": [
  {
   "cell_type": "code",
   "execution_count": 1,
   "id": "73560605",
   "metadata": {},
   "outputs": [
    {
     "data": {
      "text/plain": [
       "True"
      ]
     },
     "execution_count": 1,
     "metadata": {},
     "output_type": "execute_result"
    }
   ],
   "source": [
    "# Cell 1: Import Libraries\n",
    "import os\n",
    "from neo4j import GraphDatabase\n",
    "from dotenv import load_dotenv\n",
    "import pandas as pd\n",
    "from graphdatascience import GraphDataScience\n",
    "\n",
    "load_dotenv()"
   ]
  },
  {
   "cell_type": "code",
   "execution_count": null,
   "id": "ca3bddd9",
   "metadata": {},
   "outputs": [
    {
     "name": "stdout",
     "output_type": "stream",
     "text": [
      "✅ Connection to AuraDB Free established successfully!\n"
     ]
    }
   ],
   "source": [
    "# Cell 2: Load Environment Variables and Connect\n",
    "\n",
    "try:\n",
    "    load_dotenv()\n",
    "    URI = os.getenv(\"NEO4J_URI\")\n",
    "    USERNAME = os.getenv(\"NEO4J_USERNAME\")\n",
    "    PASSWORD = os.getenv(\"NEO4J_PASSWORD\")\n",
    "\n",
    "    # Establish connection to the database\n",
    "    driver = GraphDatabase.driver(URI, auth=(USERNAME, PASSWORD))\n",
    "    driver.verify_connectivity()\n",
    "    print(\"✅ Connection to AuraDB Free established successfully!\")\n",
    "\n",
    "    # # Instantiate the GDS client\n",
    "    gds = GraphDataScience(URI, auth=(USERNAME, PASSWORD), aura_ds=True)\n",
    "    print(f\"✅ Connected to GDS. GDS Version: {gds.version()}\")\n",
    "\n",
    "except Exception as e:\n",
    "    print(f\"❌ Failed to connect to AuraDB or GDS: {e}\")\n",
    "    print(\"Please ensure your .env file path is correct and the database is running.\")\n",
    "    driver = None\n",
    "    gds = None"
   ]
  },
  {
   "cell_type": "code",
   "execution_count": 6,
   "id": "9df4f415",
   "metadata": {},
   "outputs": [
    {
     "name": "stdout",
     "output_type": "stream",
     "text": [
      "🧹 Cleaning up any previous data...\n",
      "1️⃣ Creating constraints for data integrity and performance...\n",
      "   Constraints created for Movie titles and Person names.\n",
      "\n",
      "2️⃣ Loading Movie and Person nodes...\n",
      "   Nodes loaded successfully.\n",
      "\n",
      "3️⃣ Loading relationships (ACTED_IN, DIRECTED)...\n",
      "   Relationships loaded successfully.\n",
      "\n",
      "✅ Data ingestion complete!\n"
     ]
    }
   ],
   "source": [
    "if driver:\n",
    "    with driver.session(database=\"neo4j\") as session:\n",
    "        print(\"🧹 Cleaning up any previous data...\")\n",
    "        session.run(\"MATCH (n) DETACH DELETE n\")\n",
    "\n",
    "        print(\"1️⃣ Creating constraints for data integrity and performance...\")\n",
    "        session.run(\"CREATE CONSTRAINT IF NOT EXISTS FOR (m:Movie) REQUIRE m.title IS UNIQUE\")\n",
    "        session.run(\"CREATE CONSTRAINT IF NOT EXISTS FOR (p:Person) REQUIRE p.name IS UNIQUE\")\n",
    "        print(\"   Constraints created for Movie titles and Person names.\")\n",
    "\n",
    "        print(\"\\n2️⃣ Loading Movie and Person nodes...\")\n",
    "        movie_load_query = \"\"\"\n",
    "        LOAD CSV WITH HEADERS FROM 'https://data.neo4j.com/intro/movies/movies.csv' AS row\n",
    "        MERGE (m:Movie {title: row.title})\n",
    "        SET m.released = toInteger(row.released), m.tagline = row.tagline\n",
    "        \"\"\"\n",
    "        session.run(movie_load_query)\n",
    "\n",
    "        person_load_query = \"\"\"\n",
    "        LOAD CSV WITH HEADERS FROM 'https://data.neo4j.com/intro/movies/people.csv' AS row\n",
    "        MERGE (p:Person {name: row.name})\n",
    "        SET p.born = toInteger(row.born)\n",
    "        \"\"\"\n",
    "        session.run(person_load_query)\n",
    "        print(\"   Nodes loaded successfully.\")\n",
    "\n",
    "        print(\"\\n3️⃣ Loading relationships (ACTED_IN, DIRECTED)...\")\n",
    "        actors_load_query = \"\"\"\n",
    "        LOAD CSV WITH HEADERS FROM 'https://data.neo4j.com/intro/movies/actors.csv' AS row\n",
    "        MATCH (p:Person {name: row.person})\n",
    "        MATCH (m:Movie {title: row.movie})\n",
    "        MERGE (p)-[:ACTED_IN {roles: split(row.roles, ';')}]->(m)\n",
    "        \"\"\"\n",
    "        session.run(actors_load_query)\n",
    "\n",
    "        directors_load_query = \"\"\"\n",
    "        LOAD CSV WITH HEADERS FROM 'https://data.neo4j.com/intro/movies/directors.csv' AS row\n",
    "        MATCH (p:Person {name: row.person})\n",
    "        MATCH (m:Movie {title: row.movie})\n",
    "        MERGE (p)-[:DIRECTED]->(m)\n",
    "        \"\"\"\n",
    "        session.run(directors_load_query)\n",
    "        print(\"   Relationships loaded successfully.\")\n",
    "\n",
    "        print(\"\\n✅ Data ingestion complete!\")\n",
    "else:\n",
    "    print(\"Driver not connected. Cannot ingest data.\")"
   ]
  },
  {
   "cell_type": "code",
   "execution_count": 7,
   "id": "84f21c7e",
   "metadata": {},
   "outputs": [
    {
     "name": "stdout",
     "output_type": "stream",
     "text": [
      "### Query 1: Find Tom Hanks' Co-Actors (Multi-hop Traversal) ###\n",
      "\n",
      "- Meg Ryan (acted in 3 movies together)\n",
      "- Bill Paxton (acted in 2 movies together)\n",
      "- Rosie O'Donnell (acted in 2 movies together)\n",
      "- Gary Sinise (acted in 2 movies together)\n",
      "- Victor Garber (acted in 1 movies together)\n",
      "\n",
      "### Query 2: Find the Shortest Path between two actors ###\n",
      "\n"
     ]
    },
    {
     "ename": "TypeError",
     "evalue": "sequence item 1: expected str instance, NoneType found",
     "output_type": "error",
     "traceback": [
      "\u001b[1;31m---------------------------------------------------------------------------\u001b[0m",
      "\u001b[1;31mTypeError\u001b[0m                                 Traceback (most recent call last)",
      "Cell \u001b[1;32mIn[7], line 24\u001b[0m\n\u001b[0;32m     22\u001b[0m result \u001b[38;5;241m=\u001b[39m session\u001b[38;5;241m.\u001b[39mrun(query_shortest_path)\u001b[38;5;241m.\u001b[39msingle()\n\u001b[0;32m     23\u001b[0m \u001b[38;5;28;01mif\u001b[39;00m result:\n\u001b[1;32m---> 24\u001b[0m     \u001b[38;5;28mprint\u001b[39m(\u001b[38;5;124mf\u001b[39m\u001b[38;5;124m\"\u001b[39m\u001b[38;5;124mPath: \u001b[39m\u001b[38;5;132;01m{\u001b[39;00m\u001b[38;5;124;43m'\u001b[39;49m\u001b[38;5;124;43m -> \u001b[39;49m\u001b[38;5;124;43m'\u001b[39;49m\u001b[38;5;241;43m.\u001b[39;49m\u001b[43mjoin\u001b[49m\u001b[43m(\u001b[49m\u001b[43mresult\u001b[49m\u001b[43m[\u001b[49m\u001b[38;5;124;43m'\u001b[39;49m\u001b[38;5;124;43mPath\u001b[39;49m\u001b[38;5;124;43m'\u001b[39;49m\u001b[43m]\u001b[49m\u001b[43m)\u001b[49m\u001b[38;5;132;01m}\u001b[39;00m\u001b[38;5;124m\"\u001b[39m)\n\u001b[0;32m     26\u001b[0m \u001b[38;5;28mprint\u001b[39m(\u001b[38;5;124m\"\u001b[39m\u001b[38;5;130;01m\\n\u001b[39;00m\u001b[38;5;124m### Query 3: Using APOC to list available procedures ###\u001b[39m\u001b[38;5;130;01m\\n\u001b[39;00m\u001b[38;5;124m\"\u001b[39m)\n\u001b[0;32m     27\u001b[0m query_apoc_help \u001b[38;5;241m=\u001b[39m \u001b[38;5;124m\"\u001b[39m\u001b[38;5;124mCALL apoc.help(\u001b[39m\u001b[38;5;124m'\u001b[39m\u001b[38;5;124mapoc.path\u001b[39m\u001b[38;5;124m'\u001b[39m\u001b[38;5;124m) YIELD name, description RETURN name, description LIMIT 3\u001b[39m\u001b[38;5;124m\"\u001b[39m\n",
      "\u001b[1;31mTypeError\u001b[0m: sequence item 1: expected str instance, NoneType found"
     ]
    }
   ],
   "source": [
    "if driver:\n",
    "    with driver.session(database=\"neo4j\") as session:\n",
    "        print(\"### Query 1: Find Tom Hanks' Co-Actors (Multi-hop Traversal) ###\\n\")\n",
    "        query_co_actors = \"\"\"\n",
    "        MATCH (tom:Person {name: 'Tom Hanks'})-[:ACTED_IN]->(movie)<-[:ACTED_IN]-(coActor:Person)\n",
    "        WHERE tom <> coActor\n",
    "        RETURN coActor.name AS CoActor, count(movie) AS MoviesTogether\n",
    "        ORDER BY MoviesTogether DESC\n",
    "        LIMIT 5\n",
    "        \"\"\"\n",
    "        results = session.run(query_co_actors)\n",
    "        for record in results:\n",
    "            print(f\"- {record['CoActor']} (acted in {record['MoviesTogether']} movies together)\")\n",
    "\n",
    "        print(\"\\n### Query 2: Find the Shortest Path between two actors ###\\n\")\n",
    "        query_shortest_path = \"\"\"\n",
    "        MATCH p=shortestPath(\n",
    "          (p1:Person {name: 'Kevin Bacon'})-[*]-(p2:Person {name: 'Meg Ryan'})\n",
    "        )\n",
    "        RETURN [node in nodes(p) | node.name] AS Path\n",
    "        \"\"\"\n",
    "        result = session.run(query_shortest_path).single()\n",
    "        if result:\n",
    "            print(f\"Path: {' -> '.join(result['Path'])}\")\n",
    "\n",
    "        print(\"\\n### Query 3: Using APOC to list available procedures ###\\n\")\n",
    "        query_apoc_help = \"CALL apoc.help('apoc.path') YIELD name, description RETURN name, description LIMIT 3\"\n",
    "        results = session.run(query_apoc_help)\n",
    "        for record in results:\n",
    "            print(f\"- {record['name']}: {record['description']}\")\n",
    "else:\n",
    "    print(\"Driver not connected. Cannot run queries.\")"
   ]
  },
  {
   "cell_type": "code",
   "execution_count": 10,
   "id": "f6408698",
   "metadata": {},
   "outputs": [
    {
     "name": "stdout",
     "output_type": "stream",
     "text": [
      "🔄 Setting up a new dataset for RBAC emulation (Financial Transactions)...\n",
      "✅ Financial dataset created.\n"
     ]
    }
   ],
   "source": [
    "# Create a new graph for the RBAC demo\n",
    "if driver:\n",
    "    with driver.session(database=\"neo4j\") as session:\n",
    "        print(\"🔄 Setting up a new dataset for RBAC emulation (Financial Transactions)...\")\n",
    "        # Clear existing data\n",
    "        session.run(\"MATCH (n) DETACH DELETE n\")\n",
    "\n",
    "        # Create constraints\n",
    "        session.run(\"CREATE CONSTRAINT IF NOT EXISTS FOR (c:Customer) REQUIRE c.id IS UNIQUE\")\n",
    "        session.run(\"CREATE CONSTRAINT IF NOT EXISTS FOR (a:Account) REQUIRE a.id IS UNIQUE\")\n",
    "        session.run(\"CREATE CONSTRAINT IF NOT EXISTS FOR (b:Branch) REQUIRE b.id IS UNIQUE\")\n",
    "\n",
    "        # Load sample data\n",
    "        session.run(\"\"\"\n",
    "        MERGE (c1:Customer {id:'cust-001', name:'Alice'})\n",
    "        MERGE (c2:Customer {id:'cust-002', name:'Bob'})\n",
    "        MERGE (c3:Customer {id:'cust-003', name:'Charlie'})\n",
    "\n",
    "        MERGE (b1:Branch {id:'branch-A', location:'New York'})\n",
    "        MERGE (b2:Branch {id:'branch-B', location:'London'})\n",
    "\n",
    "        MERGE (acct1:Account {id:'acct-101', type:'Checking'})\n",
    "        MERGE (acct2:Account {id:'acct-102', type:'Savings'})\n",
    "        MERGE (acct3:Account {id:'acct-201', type:'Checking'})\n",
    "        MERGE (acct4:Account {id:'acct-301', type:'Investment'})\n",
    "\n",
    "        MERGE (c1)-[:OWNS]->(acct1)\n",
    "        MERGE (c1)-[:OWNS]->(acct2)\n",
    "        MERGE (c2)-[:OWNS]->(acct3)\n",
    "        MERGE (c3)-[:OWNS]->(acct4)\n",
    "\n",
    "        MERGE (acct1)-[:TRANSACTED_AT]->(b1)\n",
    "        MERGE (acct2)-[:TRANSACTED_AT]->(b1)\n",
    "        MERGE (acct3)-[:TRANSACTED_AT]->(b2)\n",
    "        MERGE (acct4)-[:TRANSACTED_AT]->(b2)\n",
    "\n",
    "        MERGE (t1:Transaction {id:'txn-556', amount:100.0, timestamp:datetime()})\n",
    "        MERGE (t2:Transaction {id:'txn-557', amount:250.0, timestamp:datetime()})\n",
    "        MERGE (t3:Transaction {id:'txn-558', amount:50.0, timestamp:datetime()})\n",
    "\n",
    "        MERGE (acct1)-[:PERFORMED]->(t1)\n",
    "        MERGE (acct3)-[:PERFORMED]->(t2)\n",
    "        MERGE (acct4)-[:PERFORMED]->(t3)\n",
    "        \"\"\")\n",
    "        print(\"✅ Financial dataset created.\")\n",
    "else:\n",
    "    print(\"Driver not connected. Cannot set up dataset.\")"
   ]
  },
  {
   "cell_type": "code",
   "execution_count": 11,
   "id": "649f7518",
   "metadata": {},
   "outputs": [
    {
     "name": "stdout",
     "output_type": "stream",
     "text": [
      "--- Running query as a Teller for branch-A ---\n",
      "\n",
      "{'TransactionID': 'txn-556', 'Amount': 100.0, 'AccountID': 'acct-101', 'Branch': 'New York'}\n"
     ]
    }
   ],
   "source": [
    "if driver:\n",
    "    # This parameter would be set based on the logged-in user's role\n",
    "    current_user_branch = 'branch-A'\n",
    "\n",
    "    with driver.session(database=\"neo4j\") as session:\n",
    "        print(f\"--- Running query as a Teller for {current_user_branch} ---\\n\")\n",
    "        teller_query = \"\"\"\n",
    "        MATCH (b:Branch {id: $branch_id})<-[:TRANSACTED_AT]-(a:Account)-[:PERFORMED]->(t:Transaction)\n",
    "        RETURN t.id AS TransactionID, t.amount AS Amount, a.id AS AccountID, b.location AS Branch\n",
    "        \"\"\"\n",
    "        results = session.run(teller_query, branch_id=current_user_branch)\n",
    "        for record in results:\n",
    "            print(dict(record))\n",
    "else:\n",
    "    print(\"Driver not connected.\")"
   ]
  },
  {
   "cell_type": "code",
   "execution_count": 12,
   "id": "96708335",
   "metadata": {},
   "outputs": [
    {
     "name": "stdout",
     "output_type": "stream",
     "text": [
      "--- Running query as a Fraud Analyst ---\n",
      "\n",
      "{'FromAccount': 'acct-101', 'ToAccount': 'acct-201', 'Amount': 75}\n"
     ]
    }
   ],
   "source": [
    "if driver:\n",
    "    with driver.session(database=\"neo4j\") as session:\n",
    "        print(\"--- Running query as a Fraud Analyst ---\\n\")\n",
    "        # Let's add a transfer relationship for this demo\n",
    "        session.run(\"MATCH (a1:Account {id:'acct-101'}), (a2:Account {id:'acct-201'}) MERGE (a1)-[:SENT_TO {amount: 75}]->(a2)\")\n",
    "\n",
    "        analyst_query = \"\"\"\n",
    "        MATCH (a1:Account)-[s:SENT_TO]->(a2:Account)\n",
    "        // Note we are NOT returning the Customer.name property\n",
    "        RETURN a1.id AS FromAccount, a2.id AS ToAccount, s.amount AS Amount\n",
    "        \"\"\"\n",
    "        results = session.run(analyst_query)\n",
    "        for record in results:\n",
    "            print(dict(record))\n",
    "else:\n",
    "    print(\"Driver not connected.\")"
   ]
  },
  {
   "cell_type": "code",
   "execution_count": 13,
   "id": "f25d0519",
   "metadata": {},
   "outputs": [
    {
     "name": "stdout",
     "output_type": "stream",
     "text": [
      "--- Running query as an Auditor ---\n",
      "\n",
      "{'CustomerName': 'Alice', 'AccountID': 'acct-101', 'BranchLocation': 'New York'}\n",
      "{'CustomerName': 'Alice', 'AccountID': 'acct-102', 'BranchLocation': 'New York'}\n",
      "{'CustomerName': 'Bob', 'AccountID': 'acct-201', 'BranchLocation': 'London'}\n",
      "{'CustomerName': 'Charlie', 'AccountID': 'acct-301', 'BranchLocation': 'London'}\n"
     ]
    }
   ],
   "source": [
    "if driver:\n",
    "    with driver.session(database=\"neo4j\") as session:\n",
    "        print(\"--- Running query as an Auditor ---\\n\")\n",
    "        auditor_query = \"\"\"\n",
    "        MATCH (c:Customer)-[:OWNS]->(a:Account)-[:TRANSACTED_AT]->(b:Branch)\n",
    "        RETURN c.name AS CustomerName, a.id AS AccountID, b.location AS BranchLocation\n",
    "        ORDER BY CustomerName\n",
    "        \"\"\"\n",
    "        results = session.run(auditor_query)\n",
    "        for record in results:\n",
    "            print(dict(record))\n",
    "else:\n",
    "    print(\"Driver not connected.\")"
   ]
  },
  {
   "cell_type": "code",
   "execution_count": 14,
   "id": "2e06fb12",
   "metadata": {},
   "outputs": [
    {
     "name": "stdout",
     "output_type": "stream",
     "text": [
      "\n",
      "Connection to AuraDB closed.\n"
     ]
    }
   ],
   "source": [
    "# Don't forget to close the driver connection when you're done!\n",
    "if driver:\n",
    "    driver.close()\n",
    "    print(\"\\nConnection to AuraDB closed.\")"
   ]
  }
 ],
 "metadata": {
  "kernelspec": {
   "display_name": "Python 3",
   "language": "python",
   "name": "python3"
  },
  "language_info": {
   "codemirror_mode": {
    "name": "ipython",
    "version": 3
   },
   "file_extension": ".py",
   "mimetype": "text/x-python",
   "name": "python",
   "nbconvert_exporter": "python",
   "pygments_lexer": "ipython3",
   "version": "3.12.2"
  }
 },
 "nbformat": 4,
 "nbformat_minor": 5
}
